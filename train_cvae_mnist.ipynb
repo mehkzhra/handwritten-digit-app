{
  "nbformat": 4,
  "nbformat_minor": 0,
  "metadata": {
    "colab": {
      "provenance": []
    },
    "kernelspec": {
      "name": "python3",
      "display_name": "Python 3"
    },
    "language_info": {
      "name": "python"
    }
  },
  "cells": [
    {
      "cell_type": "code",
      "execution_count": 1,
      "metadata": {
        "colab": {
          "base_uri": "https://localhost:8080/"
        },
        "id": "9P7q7rhyAHx0",
        "outputId": "759c6afc-3341-46b5-e1e9-da3ffa53b289"
      },
      "outputs": [
        {
          "output_type": "stream",
          "name": "stderr",
          "text": [
            "100%|██████████| 9.91M/9.91M [00:00<00:00, 134MB/s]\n",
            "100%|██████████| 28.9k/28.9k [00:00<00:00, 40.3MB/s]\n",
            "100%|██████████| 1.65M/1.65M [00:00<00:00, 33.4MB/s]\n",
            "100%|██████████| 4.54k/4.54k [00:00<00:00, 6.99MB/s]\n"
          ]
        },
        {
          "output_type": "stream",
          "name": "stdout",
          "text": [
            "Epoch 1, Loss: 162.8267\n",
            "Epoch 2, Loss: 119.5580\n",
            "Epoch 3, Loss: 112.1751\n",
            "Epoch 4, Loss: 108.8702\n",
            "Epoch 5, Loss: 106.9079\n",
            "Epoch 6, Loss: 105.4645\n",
            "Epoch 7, Loss: 104.4738\n",
            "Epoch 8, Loss: 103.5898\n",
            "Epoch 9, Loss: 102.9882\n",
            "Epoch 10, Loss: 102.4267\n"
          ]
        }
      ],
      "source": [
        "# train_cvae_mnist.py\n",
        "\n",
        "import torch\n",
        "import torch.nn as nn\n",
        "import torch.nn.functional as F\n",
        "import torchvision\n",
        "from torchvision import datasets, transforms\n",
        "from torch.utils.data import DataLoader\n",
        "import numpy as np\n",
        "import os\n",
        "\n",
        "device = torch.device(\"cuda\" if torch.cuda.is_available() else \"cpu\")\n",
        "\n",
        "# --- CVAE Model ---\n",
        "class CVAE(nn.Module):\n",
        "    def __init__(self, latent_dim=20):\n",
        "        super(CVAE, self).__init__()\n",
        "        self.latent_dim = latent_dim\n",
        "        self.fc1 = nn.Linear(784 + 10, 400)\n",
        "        self.fc21 = nn.Linear(400, latent_dim)\n",
        "        self.fc22 = nn.Linear(400, latent_dim)\n",
        "        self.fc3 = nn.Linear(latent_dim + 10, 400)\n",
        "        self.fc4 = nn.Linear(400, 784)\n",
        "\n",
        "    def encode(self, x, y):\n",
        "        h1 = F.relu(self.fc1(torch.cat([x, y], dim=1)))\n",
        "        return self.fc21(h1), self.fc22(h1)  # mean and logvar\n",
        "\n",
        "    def reparameterize(self, mu, logvar):\n",
        "        std = torch.exp(0.5 * logvar)\n",
        "        eps = torch.randn_like(std)\n",
        "        return mu + eps * std\n",
        "\n",
        "    def decode(self, z, y):\n",
        "        h3 = F.relu(self.fc3(torch.cat([z, y], dim=1)))\n",
        "        return torch.sigmoid(self.fc4(h3))\n",
        "\n",
        "    def forward(self, x, y):\n",
        "        mu, logvar = self.encode(x, y)\n",
        "        z = self.reparameterize(mu, logvar)\n",
        "        return self.decode(z, y), mu, logvar\n",
        "\n",
        "# --- Loss Function ---\n",
        "def loss_function(recon_x, x, mu, logvar):\n",
        "    BCE = F.binary_cross_entropy(recon_x, x, reduction='sum')\n",
        "    KLD = -0.5 * torch.sum(1 + logvar - mu.pow(2) - logvar.exp())\n",
        "    return BCE + KLD\n",
        "\n",
        "# --- Data ---\n",
        "transform = transforms.ToTensor()\n",
        "train_loader = DataLoader(\n",
        "    datasets.MNIST('./data', train=True, download=True, transform=transform),\n",
        "    batch_size=128, shuffle=True\n",
        ")\n",
        "\n",
        "# --- Train ---\n",
        "model = CVAE().to(device)\n",
        "optimizer = torch.optim.Adam(model.parameters(), lr=1e-3)\n",
        "epochs = 10\n",
        "\n",
        "for epoch in range(epochs):\n",
        "    model.train()\n",
        "    train_loss = 0\n",
        "    for batch_idx, (data, labels) in enumerate(train_loader):\n",
        "        data = data.view(-1, 784).to(device)\n",
        "        one_hot = F.one_hot(labels, num_classes=10).float().to(device)\n",
        "\n",
        "        optimizer.zero_grad()\n",
        "        recon_batch, mu, logvar = model(data, one_hot)\n",
        "        loss = loss_function(recon_batch, data, mu, logvar)\n",
        "        loss.backward()\n",
        "        train_loss += loss.item()\n",
        "        optimizer.step()\n",
        "\n",
        "    print(f\"Epoch {epoch+1}, Loss: {train_loss/len(train_loader.dataset):.4f}\")\n",
        "\n",
        "# --- Save Model ---\n",
        "os.makedirs(\"models\", exist_ok=True)\n",
        "torch.save(model.state_dict(), \"models/cvae_mnist.pth\")\n"
      ]
    }
  ]
}